{
  "metadata": {
    "kernelspec": {
      "name": "python3",
      "display_name": "Python 3"
    },
    "language_info": {
      "name": "python",
      "version": "3.10.12",
      "mimetype": "text/x-python",
      "codemirror_mode": {
        "name": "ipython",
        "version": 3
      },
      "pygments_lexer": "ipython3",
      "nbconvert_exporter": "python",
      "file_extension": ".py"
    },
    "accelerator": "GPU",
    "anaconda-cloud": {},
    "colab": {
      "gpuType": "T4",
      "provenance": [],
      "name": "notebook8eb496cfb7",
      "include_colab_link": true
    },
    "kaggle": {
      "accelerator": "gpu",
      "dataSources": [],
      "dockerImageVersionId": 30919,
      "isInternetEnabled": true,
      "language": "python",
      "sourceType": "notebook",
      "isGpuEnabled": true
    }
  },
  "nbformat_minor": 0,
  "nbformat": 4,
  "cells": [
    {
      "cell_type": "markdown",
      "metadata": {
        "id": "view-in-github",
        "colab_type": "text"
      },
      "source": [
        "<a href=\"https://colab.research.google.com/github/taukappawho/nets_mod/blob/main/notebook8eb496cfb7.ipynb\" target=\"_parent\"><img src=\"https://colab.research.google.com/assets/colab-badge.svg\" alt=\"Open In Colab\"/></a>"
      ]
    },
    {
      "cell_type": "markdown",
      "source": [
        "# Convolutional Neural Networks\n",
        "\n",
        "## Project: Write an Algorithm for a Dog Identification App\n",
        "\n",
        "---\n",
        "\n",
        "In this notebook, some template code has already been provided for you, and you will need to implement additional functionality to successfully complete this project. You will not need to modify the included code beyond what is requested. Sections that begin with **'(IMPLEMENTATION)'** in the header indicate that the following block of code will require additional functionality which you must provide. Instructions will be provided for each section, and the specifics of the implementation are marked in the code block with a 'TODO' statement. Please be sure to read the instructions carefully!\n",
        "\n",
        "> **Note**: Once you have completed all of the code implementations, you need to finalize your work by exporting the Jupyter Notebook as an HTML document. Before exporting the notebook to html, all of the code cells need to have been run so that our TA can see the final implementation and output. You can then export the notebook by using the menu above and navigating to **File -> Download as -> HTML (.html)**. Or, you could print your result in a PDF by using the menu above and navigating to **File -> Print -> Save as PDF**. Include the finished document along with this notebook as your submission.\n",
        "\n",
        "In addition to implementing code in Part B, there will be follow-up questions that you must answer in Part C which relate to the project and your implementation. Each section where you will answer a question is preceded by a **'Part C Question X'** header. Carefully read each question and provide thorough answers in the following text boxes that begin with **'Answer:'**. Your project submission will be evaluated based on your answers to each of the questions and the implementation you provide.\n",
        "\n",
        ">**Note:** Code and Markdown cells can be executed using the **Shift + Enter** keyboard shortcut.  Markdown cells can be edited by double-clicking the cell to enter edit mode.\n",
        "\n",
        "The rubric contains _optional_ \"Stand Out Suggestions\" for enhancing the project beyond the minimum requirements. If you decide to pursue the \"Stand Out Suggestions\", you should include the code in this Jupyter notebook.\n",
        "\n",
        "\n",
        "\n",
        "---\n",
        "### Why We're Here\n",
        "\n",
        "In this notebook, you will make the first steps towards developing an algorithm that could be used as part of a mobile or web app.  At the end of this project, your code will accept any user-supplied image as input.  If a dog is detected in the image, it will provide an estimate of the dog's breed.  If a human is detected, it will provide an estimate of the dog breed that is most resembling.  The image below displays potential sample output of your finished project (... but we expect that each student's algorithm will behave differently!).\n",
        "\n",
        "![Sample Dog Output](https://www.dropbox.com/s/ckx8gitx39onqbc/sample_dog_output.png?dl=1)\n",
        "\n",
        "In this real-world setting, you will need to piece together a series of models to perform different tasks; for instance, the algorithm that detects humans in an image will be different from the CNN that infers dog breed.  There are many points of possible failure, and no perfect algorithm exists.  Your imperfect solution will nonetheless create a fun user experience!\n",
        "\n",
        "### The Road Ahead\n",
        "\n",
        "We break the notebook into separate steps.  Feel free to use the links below to navigate the notebook.\n",
        "\n",
        "* [Step 0](#step0): Import Datasets\n",
        "* [Step 1](#step1): Detect Humans\n",
        "* [Step 2](#step2): Detect Dogs\n",
        "* [Step 3](#step3): Create a CNN to Classify Dog Breeds (from Scratch)\n",
        "* [Step 4](#step4): Create a CNN to Classify Dog Breeds (using Transfer Learning)\n",
        "* [Step 5](#step5): Write your Algorithm\n",
        "* [Step 6](#step6): Test Your Algorithm\n",
        "\n",
        "---\n",
        "<a id='step0'></a>\n",
        "## Step 0: Import Datasets\n"
      ],
      "metadata": {
        "id": "Eba1gYCCFSFG"
      }
    },
    {
      "cell_type": "markdown",
      "source": [
        "Run the following 4 commands to download the required human and dog datasets:\n",
        "* Download the [dog dataset](https://s3-us-west-1.amazonaws.com/udacity-aind/dog-project/dogImages.zip).  Unzip the folder and place it in this project's home directory, at the location `/dogImages`.\n",
        "\n",
        "* Download the [human dataset](https://s3-us-west-1.amazonaws.com/udacity-aind/dog-project/lfw.zip).  Unzip the folder and place it in the home diretcory, at location `/lfw`.  \n",
        "\n",
        "In the code cell below, we save the file paths for both the human (LFW) dataset and dog dataset in the numpy arrays `human_files` and `dog_files`."
      ],
      "metadata": {
        "id": "nroQtk0Bwiz9"
      }
    },
    {
      "cell_type": "code",
      "source": [
        "# from google.colab import drive\n",
        "# drive.mount('/content/drive')"
      ],
      "metadata": {
        "id": "mdAWHPdgF4N8",
        "trusted": true,
        "execution": {
          "iopub.status.busy": "2025-03-09T06:11:10.954359Z",
          "iopub.execute_input": "2025-03-09T06:11:10.954743Z",
          "iopub.status.idle": "2025-03-09T06:11:10.958207Z",
          "shell.execute_reply.started": "2025-03-09T06:11:10.954711Z",
          "shell.execute_reply": "2025-03-09T06:11:10.957458Z"
        }
      },
      "outputs": [],
      "execution_count": null
    },
    {
      "cell_type": "code",
      "source": [
        "!wget https://s3-us-west-1.amazonaws.com/udacity-aind/dog-project/dogImages.zip"
      ],
      "metadata": {
        "id": "_l8of4ifHntD",
        "trusted": true,
        "execution": {
          "iopub.status.busy": "2025-03-09T06:11:10.959324Z",
          "iopub.execute_input": "2025-03-09T06:11:10.959599Z",
          "iopub.status.idle": "2025-03-09T06:11:36.254157Z",
          "shell.execute_reply.started": "2025-03-09T06:11:10.959577Z",
          "shell.execute_reply": "2025-03-09T06:11:36.253037Z"
        }
      },
      "outputs": [],
      "execution_count": null
    },
    {
      "cell_type": "code",
      "source": [
        "!unzip dogImages.zip"
      ],
      "metadata": {
        "id": "pE-6DIdaIX-o",
        "trusted": true,
        "execution": {
          "iopub.status.busy": "2025-03-09T06:11:36.2563Z",
          "iopub.execute_input": "2025-03-09T06:11:36.256552Z",
          "iopub.status.idle": "2025-03-09T06:12:22.291928Z",
          "shell.execute_reply.started": "2025-03-09T06:11:36.256529Z",
          "shell.execute_reply": "2025-03-09T06:12:22.290967Z"
        }
      },
      "outputs": [],
      "execution_count": null
    },
    {
      "cell_type": "code",
      "source": [
        "!wget https://s3-us-west-1.amazonaws.com/udacity-aind/dog-project/lfw.zip"
      ],
      "metadata": {
        "id": "XvenwBc7JGf8",
        "trusted": true,
        "execution": {
          "iopub.status.busy": "2025-03-09T06:12:22.293427Z",
          "iopub.execute_input": "2025-03-09T06:12:22.293735Z",
          "iopub.status.idle": "2025-03-09T06:12:27.622935Z",
          "shell.execute_reply.started": "2025-03-09T06:12:22.293702Z",
          "shell.execute_reply": "2025-03-09T06:12:27.622036Z"
        }
      },
      "outputs": [],
      "execution_count": null
    },
    {
      "cell_type": "code",
      "source": [
        "!unzip lfw.zip"
      ],
      "metadata": {
        "id": "KRI0db-aJPwU",
        "trusted": true,
        "execution": {
          "iopub.status.busy": "2025-03-09T06:12:27.623879Z",
          "iopub.execute_input": "2025-03-09T06:12:27.624201Z",
          "iopub.status.idle": "2025-03-09T06:12:32.807336Z",
          "shell.execute_reply.started": "2025-03-09T06:12:27.624175Z",
          "shell.execute_reply": "2025-03-09T06:12:32.806455Z"
        }
      },
      "outputs": [],
      "execution_count": null
    },
    {
      "cell_type": "code",
      "source": [
        "import numpy as np\n",
        "from glob import glob\n",
        "\n",
        "# load filenames for human and dog images\n",
        "human_files = np.array(glob(\"lfw/*/*\"))\n",
        "dog_files = np.array(glob(\"dogImages/*/*/*\"))\n",
        "\n",
        "# print number of images in each dataset\n",
        "print('There are %d total human images.' % len(human_files))\n",
        "print('There are %d total dog images.' % len(dog_files))"
      ],
      "metadata": {
        "id": "DpOfGuslFSFK",
        "trusted": true,
        "execution": {
          "iopub.status.busy": "2025-03-09T06:12:32.808216Z",
          "iopub.execute_input": "2025-03-09T06:12:32.808514Z",
          "iopub.status.idle": "2025-03-09T06:12:32.989247Z",
          "shell.execute_reply.started": "2025-03-09T06:12:32.80848Z",
          "shell.execute_reply": "2025-03-09T06:12:32.988281Z"
        }
      },
      "outputs": [],
      "execution_count": null
    },
    {
      "cell_type": "markdown",
      "source": [
        "<a id='step1'></a>\n",
        "## Step 1: Detect Humans\n",
        "\n",
        "In this section, we use OpenCV's implementation of [Haar feature-based cascade classifiers](http://docs.opencv.org/trunk/d7/d8b/tutorial_py_face_detection.html) to detect human faces in images.  \n",
        "\n",
        "OpenCV provides many pre-trained face detectors, stored as XML files on [github](https://github.com/opencv/opencv/tree/master/data/haarcascades).  We have downloaded one of these detectors and stored it in the `haarcascades` directory.  In the next code cell, we demonstrate how to use this detector to find human faces in a sample image."
      ],
      "metadata": {
        "id": "XxZtnKPHFSFL"
      }
    },
    {
      "cell_type": "code",
      "source": [
        "# NOTICE: If you run locally, the file `haarcascade_frontalface_alt.xml` is ready to use\n",
        "# in the start code. You DO NOT need to run the following command to re-download it again!\n",
        "\n",
        "# Download haarcascade_frontalface_alt.xml\n",
        "!mkdir haarcascades\n",
        "!wget -P haarcascades/ https://www.dropbox.com/s/dy70c8t97775y6i/haarcascade_frontalface_alt.xml"
      ],
      "metadata": {
        "id": "eNwgHqZRJ-M2",
        "trusted": true,
        "execution": {
          "iopub.status.busy": "2025-03-09T06:12:32.990791Z",
          "iopub.execute_input": "2025-03-09T06:12:32.991101Z",
          "iopub.status.idle": "2025-03-09T06:12:34.368377Z",
          "shell.execute_reply.started": "2025-03-09T06:12:32.99107Z",
          "shell.execute_reply": "2025-03-09T06:12:34.367396Z"
        }
      },
      "outputs": [],
      "execution_count": null
    },
    {
      "cell_type": "code",
      "source": [
        "%pip install opencv-python\n",
        "import cv2\n",
        "import matplotlib.pyplot as plt\n",
        "%matplotlib inline\n",
        "\n",
        "# extract pre-trained face detector\n",
        "face_cascade = cv2.CascadeClassifier('haarcascades/haarcascade_frontalface_alt.xml')\n",
        "\n",
        "# load color (BGR) image\n",
        "img = cv2.imread(human_files[0])\n",
        "# convert BGR image to grayscale\n",
        "gray = cv2.cvtColor(img, cv2.COLOR_BGR2GRAY)\n",
        "\n",
        "# find faces in image\n",
        "faces = face_cascade.detectMultiScale(gray)\n",
        "\n",
        "# print number of faces detected in the image\n",
        "print('Number of faces detected:', len(faces))\n",
        "\n",
        "# get bounding box for each detected face\n",
        "for (x,y,w,h) in faces:\n",
        "    # add bounding box to color image\n",
        "    cv2.rectangle(img,(x,y),(x+w,y+h),(255,0,0),2)\n",
        "\n",
        "# convert BGR image to RGB for plotting\n",
        "cv_rgb = cv2.cvtColor(img, cv2.COLOR_BGR2RGB)\n",
        "\n",
        "# display the image, along with bounding box\n",
        "plt.imshow(cv_rgb)\n",
        "plt.show()"
      ],
      "metadata": {
        "id": "aZWRhE_5FSFM",
        "trusted": true,
        "execution": {
          "iopub.status.busy": "2025-03-09T06:12:34.369562Z",
          "iopub.execute_input": "2025-03-09T06:12:34.36996Z",
          "iopub.status.idle": "2025-03-09T06:12:39.777252Z",
          "shell.execute_reply.started": "2025-03-09T06:12:34.369926Z",
          "shell.execute_reply": "2025-03-09T06:12:39.77618Z"
        }
      },
      "outputs": [],
      "execution_count": null
    },
    {
      "cell_type": "markdown",
      "source": [
        "Before using any of the face detectors, it is standard procedure to convert the images to grayscale.  The `detectMultiScale` function executes the classifier stored in `face_cascade` and takes the grayscale image as a parameter.  \n",
        "\n",
        "In the above code, `faces` is a numpy array of detected faces, where each row corresponds to a detected face.  Each detected face is a 1D array with four entries that specifies the bounding box of the detected face.  The first two entries in the array (extracted in the above code as `x` and `y`) specify the horizontal and vertical positions of the top left corner of the bounding box.  The last two entries in the array (extracted here as `w` and `h`) specify the width and height of the box.\n",
        "\n",
        "### Write a Human Face Detector\n",
        "\n",
        "We can use this procedure to write a function that returns `True` if a human face is detected in an image and `False` otherwise.  This function, aptly named `face_detector`, takes a string-valued file path to an image as input and appears in the code block below."
      ],
      "metadata": {
        "id": "9zmTMgoyFSFM"
      }
    },
    {
      "cell_type": "code",
      "source": [
        "# returns \"True\" if face is detected in image stored at img_path\n",
        "def face_detector(img_path):\n",
        "    img = cv2.imread(img_path)\n",
        "    gray = cv2.cvtColor(img, cv2.COLOR_BGR2GRAY)\n",
        "    faces = face_cascade.detectMultiScale(gray)\n",
        "    return len(faces) > 0"
      ],
      "metadata": {
        "id": "hy97cg3KFSFM",
        "trusted": true,
        "execution": {
          "iopub.status.busy": "2025-03-09T06:12:39.779811Z",
          "iopub.execute_input": "2025-03-09T06:12:39.78008Z",
          "iopub.status.idle": "2025-03-09T06:12:39.784647Z",
          "shell.execute_reply.started": "2025-03-09T06:12:39.780054Z",
          "shell.execute_reply": "2025-03-09T06:12:39.78354Z"
        }
      },
      "outputs": [],
      "execution_count": null
    },
    {
      "cell_type": "markdown",
      "source": [
        "### Assess the Human Face Detector\n",
        "\n",
        "Use the code cell below to test the performance of the `face_detector` function. Then, you will see the results based on OpenCV detector\n",
        "- The percentage of the first 100 images in `human_files` having a detected human face.\n",
        "- The percentage of the first 100 images in `dog_files` having a detected human face.\n",
        "\n",
        "Ideally, we would like 100% of human images with a detected face and 0% of dog images with a detected face.  You will see that our algorithm falls short of this goal, but still gives acceptable performance.  We extract the file paths for the first 100 images from each of the datasets and store them in the numpy arrays `human_files_short` and `dog_files_short`."
      ],
      "metadata": {
        "id": "UdvDjy9iFSFN"
      }
    },
    {
      "cell_type": "code",
      "source": [
        "%pip install tqdm\n",
        "from tqdm import tqdm\n",
        "\n",
        "human_files_short = human_files[:100]\n",
        "dog_files_short = dog_files[:100]\n",
        "\n",
        "#-#-# Do NOT modify the code above this line. #-#-#\n",
        "\n",
        "## Test the performance of the face_detector algorithm\n",
        "## on the images in human_files_short and dog_files_short.\n",
        "human_in_human_imgs = 0\n",
        "human_in_dog_imgs = 0\n",
        "\n",
        "for human in human_files_short:\n",
        "    if face_detector(human):\n",
        "        human_in_human_imgs +=1\n",
        "\n",
        "for dog in dog_files_short:\n",
        "    if face_detector(dog):\n",
        "        human_in_dog_imgs +=1\n",
        "\n",
        "print('%d%% of human images detected a face.' % human_in_human_imgs)\n",
        "print('%d%% of dog images detected a face.' % human_in_dog_imgs)\n"
      ],
      "metadata": {
        "id": "H1p1Y3WRFSFN",
        "trusted": true,
        "execution": {
          "iopub.status.busy": "2025-03-09T06:12:39.78657Z",
          "iopub.execute_input": "2025-03-09T06:12:39.786822Z",
          "iopub.status.idle": "2025-03-09T06:13:01.88154Z",
          "shell.execute_reply.started": "2025-03-09T06:12:39.7868Z",
          "shell.execute_reply": "2025-03-09T06:13:01.880713Z"
        }
      },
      "outputs": [],
      "execution_count": null
    },
    {
      "cell_type": "markdown",
      "source": [
        "Here, we use the face detector from OpenCV as a potential way to detect human images in your algorithm, but you are free to explore other approaches, especially approaches that make use of deep learning :)."
      ],
      "metadata": {
        "id": "yFGQBjXuFSFO"
      }
    },
    {
      "cell_type": "markdown",
      "source": [
        "---\n",
        "<a id='step2'></a>\n",
        "## Step 2: Detect Dogs\n",
        "\n",
        "In this section, we use a [pre-trained model](http://pytorch.org/docs/master/torchvision/models.html) to detect dogs in images.  \n",
        "\n",
        "### Obtain Pre-trained VGG-16 Model\n",
        "\n",
        "The code cell below downloads the VGG-16 model, along with weights that have been trained on [ImageNet](http://www.image-net.org/), a very large, very popular dataset used for image classification and other vision tasks.  ImageNet contains over 10 million URLs, each linking to an image containing an object from one of [1000 categories](https://gist.github.com/yrevar/942d3a0ac09ec9e5eb3a).  "
      ],
      "metadata": {
        "id": "_esxp2xXFSFP"
      }
    },
    {
      "cell_type": "code",
      "source": [
        "%pip install torch\n",
        "import torch\n",
        "%pip install torchvision\n",
        "import torchvision.models as models\n",
        "torch.manual_seed(0)\n",
        "\n",
        "# define VGG16 model\n",
        "VGG16 = models.vgg16(pretrained=True)\n",
        "\n",
        "# check if CUDA is available\n",
        "use_cuda = torch.cuda.is_available()\n",
        "\n",
        "# move model to GPU if CUDA is available\n",
        "if use_cuda:\n",
        "    VGG16 = VGG16.cuda()"
      ],
      "metadata": {
        "id": "C5kPXYydFSFP",
        "trusted": true,
        "execution": {
          "iopub.status.busy": "2025-03-09T06:13:01.882428Z",
          "iopub.execute_input": "2025-03-09T06:13:01.882738Z",
          "iopub.status.idle": "2025-03-09T06:13:16.302285Z",
          "shell.execute_reply.started": "2025-03-09T06:13:01.882712Z",
          "shell.execute_reply": "2025-03-09T06:13:16.301262Z"
        }
      },
      "outputs": [],
      "execution_count": null
    },
    {
      "cell_type": "markdown",
      "source": [
        "Given an image, this pre-trained VGG-16 model returns a prediction (derived from the 1000 possible categories in ImageNet) for the object that is contained in the image."
      ],
      "metadata": {
        "id": "2FjoIW_bFSFP"
      }
    },
    {
      "cell_type": "markdown",
      "source": [
        "### Making Predictions with a Pre-trained Model\n",
        "\n",
        "In the next code cell, you will see a function that accepts a path to an image (such as `'dogImages/train/001.Affenpinscher/Affenpinscher_00001.jpg'`) as input and returns the index corresponding to the ImageNet class that is predicted by the pre-trained VGG-16 model.  The output should always be an integer between 0 and 999, inclusive.\n",
        "\n",
        "You could take the time to learn how to appropriately pre-process tensors for pre-trained models in the [PyTorch documentation](http://pytorch.org/docs/stable/torchvision/models.html)."
      ],
      "metadata": {
        "id": "wwF2uVrIFSFP"
      }
    },
    {
      "cell_type": "code",
      "source": [
        "from PIL import Image\n",
        "import torchvision.transforms as transforms\n",
        "\n",
        "def VGG16_predict(img_path):\n",
        "    '''\n",
        "    Use pre-trained VGG-16 model to obtain index corresponding to\n",
        "    predicted ImageNet class for image at specified path\n",
        "\n",
        "    Args:\n",
        "        img_path: path to an image\n",
        "\n",
        "    Returns:\n",
        "        Index corresponding to VGG-16 model's prediction\n",
        "    '''\n",
        "\n",
        "    ## Load and pre-process an image from the given img_path\n",
        "    ## Return the *index* of the predicted class for that image\n",
        "\n",
        "    # All pre-trained models expect input images normalized in the same way,\n",
        "    # i.e. mini-batches of 3-channel RGB images of shape (3 x H x W),\n",
        "    # where H and W are expected to be at least 224.\n",
        "    # The images have to be loaded in to a range of [0, 1]\n",
        "    # and then normalized using mean = [0.485, 0.456, 0.406] and std = [0.229, 0.224, 0.225]\n",
        "    normalize = transforms.Normalize(mean=[0.485, 0.456, 0.406], std=[0.229, 0.224, 0.225])\n",
        "    transform = transforms.Compose([transforms.Resize(256),\n",
        "                                    transforms.CenterCrop(224),\n",
        "                                    transforms.ToTensor(),\n",
        "                                    normalize])\n",
        "\n",
        "    # Open image and apply transformation\n",
        "    image = Image.open(img_path)\n",
        "    image = transform(image)\n",
        "    image.unsqueeze_(0)\n",
        "\n",
        "    # move image to GPU if CUDA is available\n",
        "    if use_cuda:\n",
        "        image = image.cuda()\n",
        "\n",
        "    # Predict using VGG16\n",
        "    image_var = torch.autograd.Variable(image)\n",
        "    prediction = VGG16(image_var)\n",
        "    value, index = torch.max(prediction, 1)\n",
        "\n",
        "    return index[0].item() # predicted class index"
      ],
      "metadata": {
        "id": "mF1oFF9JFSFP",
        "trusted": true,
        "execution": {
          "iopub.status.busy": "2025-03-09T06:13:16.303243Z",
          "iopub.execute_input": "2025-03-09T06:13:16.303707Z",
          "iopub.status.idle": "2025-03-09T06:13:16.310619Z",
          "shell.execute_reply.started": "2025-03-09T06:13:16.303654Z",
          "shell.execute_reply": "2025-03-09T06:13:16.309822Z"
        }
      },
      "outputs": [],
      "execution_count": null
    },
    {
      "cell_type": "markdown",
      "source": [
        "### Write a Dog Detector\n",
        "\n",
        "While looking at the [dictionary](https://gist.github.com/yrevar/942d3a0ac09ec9e5eb3a), you will notice that the categories corresponding to dogs appear in an uninterrupted sequence and correspond to dictionary keys 151-268, inclusive, to include all categories from `'Chihuahua'` to `'Mexican hairless'`.  Thus, in order to check to see if an image is predicted to contain a dog by the pre-trained VGG-16 model, we need only check if the pre-trained model predicts an index between 151 and 268 (inclusive).\n",
        "\n",
        "Use these ideas to complete the `dog_detector` function below, which returns `True` if a dog is detected in an image (and `False` if not)."
      ],
      "metadata": {
        "id": "dVBLxGBDFSFQ"
      }
    },
    {
      "cell_type": "code",
      "source": [
        "### returns \"True\" if a dog is detected in the image stored at img_path\n",
        "def dog_detector(img_path):\n",
        "    ## TODO: Complete the function.\n",
        "    prediction_index = VGG16_predict(img_path)\n",
        "    return (151 <= prediction_index <= 268) # true/false"
      ],
      "metadata": {
        "id": "k2_afV-VFSFQ",
        "trusted": true,
        "execution": {
          "iopub.status.busy": "2025-03-09T06:13:16.31161Z",
          "iopub.execute_input": "2025-03-09T06:13:16.311985Z",
          "iopub.status.idle": "2025-03-09T06:13:16.417998Z",
          "shell.execute_reply.started": "2025-03-09T06:13:16.311948Z",
          "shell.execute_reply": "2025-03-09T06:13:16.417146Z"
        }
      },
      "outputs": [],
      "execution_count": null
    },
    {
      "cell_type": "markdown",
      "source": [
        "### Assess the Dog Detector use a Pre-trained CNN\n",
        "\n",
        "Use the code cell below to test the performance of your `dog_detector` function. It will indicate:  \n",
        "- The percentage of the images in `human_files_short` having a detected dog.  \n",
        "- The percentage of the images in `dog_files_short` having a detected dog."
      ],
      "metadata": {
        "id": "mFaBcpShFSFQ"
      }
    },
    {
      "cell_type": "code",
      "source": [
        "### TODO: Test the performance of the dog_detector function\n",
        "### on the images in human_files_short and dog_files_short.\n",
        "### TODO: Test the performance of the dog_detector function\n",
        "### on the images in human_files_short and dog_files_short.\n",
        "dog_in_human_imgs = 0\n",
        "dog_in_dog_imgs = 0\n",
        "\n",
        "for human in human_files_short:\n",
        "    if dog_detector(human):\n",
        "        dog_in_human_imgs +=1\n",
        "\n",
        "for dog in dog_files_short:\n",
        "    if dog_detector(dog):\n",
        "        dog_in_dog_imgs +=1\n",
        "\n",
        "print('%d%% of human images detected as a dog.' % dog_in_human_imgs)\n",
        "print('%d%% of dog images detected as a dog.' % dog_in_dog_imgs)"
      ],
      "metadata": {
        "id": "qSDOVcP_FSFQ",
        "trusted": true,
        "execution": {
          "iopub.status.busy": "2025-03-09T06:13:16.418947Z",
          "iopub.execute_input": "2025-03-09T06:13:16.419193Z",
          "iopub.status.idle": "2025-03-09T06:13:19.058421Z",
          "shell.execute_reply.started": "2025-03-09T06:13:16.419171Z",
          "shell.execute_reply": "2025-03-09T06:13:19.057534Z"
        }
      },
      "outputs": [],
      "execution_count": null
    },
    {
      "cell_type": "markdown",
      "source": [
        "As you can see, the detection result is perfect by using pre-trained CNNs. We suggest VGG-16 as a potential network to detect dog images in your algorithm, but you are free to explore other pre-trained networks (such as [Inception-v3](http://pytorch.org/docs/master/torchvision/models.html#inception-v3), [ResNet-50](http://pytorch.org/docs/master/torchvision/models.html#id3), etc)."
      ],
      "metadata": {
        "id": "9q5KcLiIFSFR"
      }
    },
    {
      "cell_type": "markdown",
      "source": [
        "---\n",
        "\n",
        "### ✅ Notice: You need to start your coding from Step 3 to Step 6, which is required in **Part B**.  Sections that begin with **'(IMPLEMENTATION)'** in the header indicate that the following block of code will require additional functionality which you must provide.\n",
        "\n",
        "### 💁 Tips: For all the missing fucntions you need to implement in **Part B**, you could check our in-class exercise code for references. Try to modify the code and fit it into the problem here based on your understanding.\n",
        "\n",
        "### ✅ Also There are some follow-up questions associated with coding, highlighted with **Part C Question X**. Carefully read each question and provide thorough answers in the following text boxes that begin with **'Answer:'**.\n",
        "\n",
        "### ✅ Your project submission will be evaluated based on your answers to each of the questions for **Part C** and the code implementation you provide as your answer for **Part B**.\n",
        "\n",
        "\n"
      ],
      "metadata": {
        "id": "d6nMhk9tYS8M"
      }
    },
    {
      "cell_type": "markdown",
      "source": [
        "---\n",
        "<a id='step3'></a>\n",
        "## Step 3: Create a CNN to Classify Dog Breeds (from Scratch)\n",
        "\n",
        "Now that we have functions for detecting humans and dogs in images, we need a way to predict breed from images.  In this step, you will create a CNN that classifies dog breeds.  You must create your CNN _from scratch_ (so, you can't use transfer learning _yet_!), and you must attain a test accuracy of at least **10%**.  In Step 4 of this notebook, you will have the opportunity to use transfer learning to create a CNN that attains greatly improved accuracy.\n",
        "\n",
        "We mention that the task of assigning breed to dogs from images is considered exceptionally challenging. To see why, consider that *even a human* would have trouble distinguishing between a Brittany and a Welsh Springer Spaniel.  \n",
        "\n",
        "Brittany | Welsh Springer Spaniel\n",
        "- | -\n",
        "<img src=\"https://www.dropbox.com/s/bo3mwqju253alon/Brittany_02625.jpg?dl=1\" width=\"100\"> | <img src=\"https://www.dropbox.com/s/lb2hzvq2m5y44rg/Welsh_springer_spaniel_08203.jpg?dl=1\" width=\"200\">\n",
        "\n",
        "It is not difficult to find other dog breed pairs with minimal inter-class variation (for instance, Curly-Coated Retrievers and American Water Spaniels).  \n",
        "\n",
        "Curly-Coated Retriever | American Water Spaniel\n",
        "- | -\n",
        "<img src=\"https://www.dropbox.com/s/p65g938k8q0kfbf/Curly-coated_retriever_03896.jpg?dl=1\" width=\"200\"> | <img src=\"https://www.dropbox.com/s/b9zv9v6iv16f4l1/American_water_spaniel_00648.jpg?dl=1\" width=\"200\">\n",
        "\n",
        "\n",
        "Likewise, recall that labradors come in yellow, chocolate, and black.  Your vision-based algorithm will have to conquer this high intra-class variation to determine how to classify all of these different shades as the same breed.  \n",
        "\n",
        "Yellow Labrador | Chocolate Labrador | Black Labrador\n",
        "- | - | -\n",
        "<img src=\"https://www.dropbox.com/s/nni1x0fvxu8apqu/Labrador_retriever_06457.jpg?dl=1\" width=\"150\"> | <img src=\"https://www.dropbox.com/s/7ik3skchbd89yas/Labrador_retriever_06455.jpg?dl=1\" width=\"240\"> | <img src=\"https://www.dropbox.com/s/64fboclmef83zd1/Labrador_retriever_06449.jpg?dl=1\" width=\"220\">\n",
        "\n",
        "We also mention that random chance presents an exceptionally low bar: setting aside the fact that the classes are slightly imabalanced, a random guess will provide a correct answer roughly 1 in 133 times, which corresponds to an accuracy of less than 1%.  \n",
        "\n",
        "Remember that the practice is far ahead of the theory in deep learning.  Experiment with many different architectures, and trust your intuition.  And, of course, have fun!\n",
        "\n",
        "### (IMPLEMENTATION [5 points]) Specify Data Loaders for the Dog Dataset\n",
        "\n",
        "Use the code cell below to write three separate [data loaders](http://pytorch.org/docs/stable/data.html#torch.utils.data.DataLoader) for the training, validation, and test datasets of dog images (located at `dogImages/train`, `dogImages/valid`, and `dogImages/test`, respectively).  You may find [this documentation on custom datasets](http://pytorch.org/docs/stable/torchvision/datasets.html) to be a useful resource.  If you are interested in augmenting your training and/or validation data, check out the wide variety of [transforms](http://pytorch.org/docs/stable/torchvision/transforms.html?highlight=transform)!"
      ],
      "metadata": {
        "id": "nw9Jcdw9FSFR"
      }
    },
    {
      "cell_type": "code",
      "source": [
        "import os\n",
        "from torchvision import datasets\n",
        "\n",
        "### TODO: Write data loaders for training, validation, and test sets\n",
        "## Specify appropriate transforms, and batch_sizes\n",
        "# define dataloader parameters\n",
        "batch_size = 32\n",
        "\n",
        "from torch.utils.data import DataLoader\n",
        "from PIL import ImageFile  # Import this to handle truncated images\n",
        "\n",
        "# ✅ Add this line to allow loading truncated images\n",
        "ImageFile.LOAD_TRUNCATED_IMAGES = True\n",
        "\n",
        "# Tranformation with data augmentation to be used on the training set\n",
        "train_transform = transforms.Compose([\n",
        "    transforms.RandomResizedCrop(224),  # Randomly crop and resize to 224x224\n",
        "    transforms.RandomHorizontalFlip(p=0.5),  # Flip image horizontally with 50% probability\n",
        "    transforms.RandomRotation(15),  # Rotate image within ±15 degrees\n",
        "    # transforms.ColorJitter(brightness=0.2, contrast=0.2, saturation=0.2, hue=0.1),  # Random color adjustments\n",
        "    transforms.ToTensor(),  # Convert image to PyTorch tensor\n",
        "    transforms.Normalize(mean=[0.485, 0.456, 0.406], std=[0.229, 0.224, 0.225])  # Normalize using ImageNet mean/std\n",
        "])\n",
        "\n",
        "# Tranformation with data augmentation to be used on the validation and test set\n",
        "test_transform =  transforms.Compose([\n",
        "    transforms.Resize(256),  # Resize to 256 pixels on shortest side\n",
        "    transforms.CenterCrop(224),  # Crop the center to 224x224\n",
        "    transforms.ToTensor(),\n",
        "    transforms.Normalize(mean=[0.485, 0.456, 0.406], std=[0.229, 0.224, 0.225])\n",
        "])\n",
        "\n",
        "# Defining the datasets for training, validation and testing\n",
        "train_data = datasets.ImageFolder('dogImages/train', transform=train_transform)\n",
        "valid_data = datasets.ImageFolder('dogImages/valid', transform=test_transform)\n",
        "test_data = datasets.ImageFolder('dogImages/test', transform=test_transform)\n",
        "\n",
        "# Defining the loaders for training, validation and testing\n",
        "loaders_scratch={\n",
        "    'train': torch.utils.data.DataLoader(train_data, batch_size=batch_size, shuffle=True),\n",
        "    'valid': torch.utils.data.DataLoader(valid_data, batch_size=batch_size, shuffle=True),\n",
        "    'test': torch.utils.data.DataLoader(test_data, batch_size=batch_size, shuffle=True)\n",
        "}"
      ],
      "metadata": {
        "id": "_tvRr6eoFSFR",
        "trusted": true,
        "execution": {
          "iopub.status.busy": "2025-03-09T06:13:19.05936Z",
          "iopub.execute_input": "2025-03-09T06:13:19.059641Z",
          "iopub.status.idle": "2025-03-09T06:13:19.099622Z",
          "shell.execute_reply.started": "2025-03-09T06:13:19.05961Z",
          "shell.execute_reply": "2025-03-09T06:13:19.099002Z"
        }
      },
      "outputs": [],
      "execution_count": null
    },
    {
      "cell_type": "markdown",
      "source": [
        "**Part C Question 1 [5 points]:** Describe your chosen procedure for preprocessing the data.\n",
        "- How does your code resize the images (by cropping, stretching, etc)?  What size did you pick for the input tensor, and why?\n",
        "- Did you decide to augment the dataset?  If so, how (through translations, flips, rotations, etc)?  If not, why not?\n"
      ],
      "metadata": {
        "id": "9OZ0KqftFSFR"
      }
    },
    {
      "cell_type": "markdown",
      "source": [
        "**Answer**:"
      ],
      "metadata": {
        "id": "eXwGffvPFSFS"
      }
    },
    {
      "cell_type": "markdown",
      "source": [
        "### (IMPLEMENTATION [5 points]) Model Architecture\n",
        "\n",
        "Create a CNN to classify dog breed.  Use the template in the code cell below."
      ],
      "metadata": {
        "id": "q4W6eFwIFSFS"
      }
    },
    {
      "cell_type": "code",
      "source": [
        "import torch.nn as nn\n",
        "import torch.nn.functional as F\n",
        "\n",
        "# define the CNN architecture\n",
        "class Net(nn.Module):\n",
        "    ### TODO: choose an architecture, and complete the class\n",
        "    def __init__(self):\n",
        "        super(Net, self).__init__()\n",
        "        ## Define layers of a CNN\n",
        "\n",
        "        # Convolutional layers\n",
        "        # self.conv1 = nn.Conv2d(in_channels=3, out_channels=32, kernel_size=3, stride=1, padding=1)\n",
        "        # self.conv2 = nn.Conv2d(in_channels=32, out_channels=64, kernel_size=3, stride=1, padding=1)\n",
        "        # self.conv3 = nn.Conv2d(in_channels=64, out_channels=128, kernel_size=3, stride=1, padding=1)\n",
        "        self.conv1 = nn.Conv2d(3, 32, 3, padding = 1)\n",
        "        self.conv2 = nn.Conv2d(32, 64, 3, padding = 1)\n",
        "        self.conv3 = nn.Conv2d(64, 128, 3, padding = 1)\n",
        "\n",
        "        # # Batch normalization\n",
        "        # self.bn1 = nn.BatchNorm2d(32)\n",
        "        # self.bn2 = nn.BatchNorm2d(64)\n",
        "        # self.bn3 = nn.BatchNorm2d(128)\n",
        "\n",
        "        # Pooling\n",
        "        self.pool = nn.MaxPool2d(kernel_size=2, stride=2, padding=0)\n",
        "\n",
        "        # Fully connected layers\n",
        "        self.fc1 = nn.Linear(128 * 28 * 28, 512)  # Flatten from convolutional layers\n",
        "        self.fc2 = nn.Linear(512, 256)\n",
        "        self.fc3 = nn.Linear(256, 133)  # Output layer\n",
        "\n",
        "        # Dropout\n",
        "        self.dropout = nn.Dropout(0.2)\n",
        "\n",
        "    def forward(self, x):\n",
        "        # Convolutional layers with batch normalization, activation, and pooling\n",
        "        x = self.pool(F.relu(self.conv1(x)))\n",
        "        x = self.pool(F.relu(self.conv2(x)))\n",
        "        x = self.pool(F.relu(self.conv3(x)))\n",
        "\n",
        "        # Flatten the output for the fully connected layers\n",
        "        # x = x.view(x.size(0), -1)  # Flatten\n",
        "        x = x.view(-1, 128 * 28 * 28)\n",
        "\n",
        "        # Fully connected layers with dropout and activation\n",
        "        # x = self.dropout(x)\n",
        "        x = F.relu(self.fc1(x))\n",
        "        x = self.dropout(x)\n",
        "        x = F.relu(self.fc2(x))\n",
        "        x = self.dropout(x)\n",
        "\n",
        "        # Output layer (Softmax is applied automatically in CrossEntropyLoss)\n",
        "        x = self.fc3(x)\n",
        "\n",
        "        return x\n",
        "\n",
        "\n",
        "#-#-# You so NOT have to modify the code below this line. #-#-#\n",
        "\n",
        "# instantiate the CNN\n",
        "model_scratch = Net()\n",
        "\n",
        "# move tensors to GPU if CUDA is available\n",
        "if use_cuda:\n",
        "    model_scratch.cuda()"
      ],
      "metadata": {
        "id": "apxkXGMaFSFS",
        "trusted": true,
        "execution": {
          "iopub.status.busy": "2025-03-09T06:13:19.100329Z",
          "iopub.execute_input": "2025-03-09T06:13:19.100525Z",
          "iopub.status.idle": "2025-03-09T06:13:19.604327Z",
          "shell.execute_reply.started": "2025-03-09T06:13:19.100508Z",
          "shell.execute_reply": "2025-03-09T06:13:19.603602Z"
        }
      },
      "outputs": [],
      "execution_count": null
    },
    {
      "cell_type": "markdown",
      "source": [
        "__Part C Question 2 [5 points]:__ Outline your final CNN architecture (from scratch) in Step 3.  \n",
        "Hint: you could use `print(model_scratch)` to get the CNN architecture."
      ],
      "metadata": {
        "id": "W42iKo4UFSFS"
      }
    },
    {
      "cell_type": "code",
      "source": [
        "print(model_scratch)"
      ],
      "metadata": {
        "id": "jqXuddeop195",
        "trusted": true,
        "execution": {
          "iopub.status.busy": "2025-03-09T06:13:19.605051Z",
          "iopub.execute_input": "2025-03-09T06:13:19.60527Z",
          "iopub.status.idle": "2025-03-09T06:13:19.609641Z",
          "shell.execute_reply.started": "2025-03-09T06:13:19.605249Z",
          "shell.execute_reply": "2025-03-09T06:13:19.608712Z"
        }
      },
      "outputs": [],
      "execution_count": null
    },
    {
      "cell_type": "markdown",
      "source": [
        "__Answer:__"
      ],
      "metadata": {
        "id": "Z3FwfNfzFSFS"
      }
    },
    {
      "cell_type": "markdown",
      "source": [
        "### (IMPLEMENTATION [5 points]) Specify Loss Function and Optimizer\n",
        "\n",
        "Use the next code cell to specify a [loss function](http://pytorch.org/docs/stable/nn.html#loss-functions) and [optimizer](http://pytorch.org/docs/stable/optim.html).  Save the chosen loss function as `criterion_scratch`, and the optimizer as `optimizer_scratch` below."
      ],
      "metadata": {
        "id": "gIPDZz_hFSFS"
      }
    },
    {
      "cell_type": "code",
      "source": [
        "import torch.optim as optim\n",
        "\n",
        "### TODO: select loss function\n",
        "criterion_scratch = torch.nn.CrossEntropyLoss()\n",
        "\n",
        "### TODO: select optimizer\n",
        "optimizer_scratch =  optim.Adam(model_scratch.parameters(), lr=0.001)"
      ],
      "metadata": {
        "id": "bdjEa8xcFSFS",
        "trusted": true,
        "execution": {
          "iopub.status.busy": "2025-03-09T06:13:19.610578Z",
          "iopub.execute_input": "2025-03-09T06:13:19.610874Z",
          "iopub.status.idle": "2025-03-09T06:13:19.626908Z",
          "shell.execute_reply.started": "2025-03-09T06:13:19.610852Z",
          "shell.execute_reply": "2025-03-09T06:13:19.626198Z"
        }
      },
      "outputs": [],
      "execution_count": null
    },
    {
      "cell_type": "markdown",
      "source": [
        "### (IMPLEMENTATION [10 points]) Train and Validate the Model\n",
        "\n",
        "Train and validate your model in the code cell below.  [Save the final model parameters](http://pytorch.org/docs/master/notes/serialization.html) at filepath `'model_scratch.pt'`."
      ],
      "metadata": {
        "id": "AZKc8rI5FSFS"
      }
    },
    {
      "cell_type": "code",
      "source": [
        "def train(n_epochs, loaders, model, optimizer, criterion, use_cuda, save_path):\n",
        "    \"\"\"returns trained model\"\"\"\n",
        "    # initialize tracker for minimum validation loss\n",
        "    valid_loss_min = np.inf\n",
        "\n",
        "    for epoch in range(1, n_epochs+1):\n",
        "        # initialize variables to monitor training and validation loss\n",
        "        train_loss = 0.0\n",
        "        valid_loss = 0.0\n",
        "\n",
        "        ###################\n",
        "        # train the model #\n",
        "        ###################\n",
        "        model.train()\n",
        "        for batch_idx, (data, target) in enumerate(loaders['train']):\n",
        "            # move to GPU\n",
        "            if use_cuda:\n",
        "                data, target = data.cuda(), target.cuda()\n",
        "            ## TODO:\n",
        "            ## find the loss and update the model parameters accordingly\n",
        "            ## record the average training loss, using something like\n",
        "            ## train_loss = train_loss + ((1 / (batch_idx + 1)) * (loss.data - train_loss))\n",
        "\n",
        "\n",
        "            optimizer.zero_grad()  # Clear previous gradients\n",
        "\n",
        "            ## Forward pass: Compute predictions\n",
        "            outputs = model(data)\n",
        "\n",
        "            ## Compute the loss\n",
        "            loss = criterion(outputs, target)\n",
        "\n",
        "            ## Backward pass: Compute gradients and update model parameters\n",
        "            loss.backward()  # Backpropagation\n",
        "            optimizer.step()  # Update model weights\n",
        "\n",
        "            ## Record average training loss\n",
        "            train_loss = train_loss + ((1 / (batch_idx + 1)) * (loss.item() - train_loss))\n",
        "\n",
        "        ######################\n",
        "        # validate the model #\n",
        "        ######################\n",
        "        model.eval()\n",
        "        # Disable gradient calculation for validation\n",
        "        with torch.no_grad():\n",
        "          for batch_idx, (data, target) in enumerate(loaders['valid']):\n",
        "              # move to GPU\n",
        "              if use_cuda:\n",
        "                  data, target = data.cuda(), target.cuda()\n",
        "              ## TODO:\n",
        "              ## update the average validation loss\n",
        "              ## record the average validation loss, using something like\n",
        "              ## valid_loss = valid_loss + ((1 / (batch_idx + 1)) * (loss.data - valid_loss))\n",
        "\n",
        "              # Forward pass\n",
        "              output = model(data)\n",
        "\n",
        "              # Compute loss\n",
        "              loss = criterion(output, target)\n",
        "\n",
        "              # Update the average validation loss\n",
        "              valid_loss += (1 / (batch_idx + 1)) * (loss.item() - valid_loss)\n",
        "\n",
        "        # print training/validation statistics\n",
        "        print('Epoch: {} \\tTraining Loss: {:.6f} \\tValidation Loss: {:.6f}'.format(\n",
        "            epoch,\n",
        "            train_loss,\n",
        "            valid_loss\n",
        "            ))\n",
        "\n",
        "        ## save the model if validation loss has decreased\n",
        "        if valid_loss < valid_loss_min:\n",
        "            print('Validation loss decreased ({:.6f} --> {:.6f}).  Saving model ...'.format(valid_loss_min, valid_loss))\n",
        "            torch.save(model.state_dict(), save_path)\n",
        "            valid_loss_min = valid_loss\n",
        "\n",
        "    # return trained model\n",
        "    return model\n",
        "\n",
        "\n",
        "# train the model\n",
        "model_scratch = train(100, loaders_scratch, model_scratch, optimizer_scratch,\n",
        "                      criterion_scratch, use_cuda, 'model_scratch.pt')\n",
        "\n",
        "# load the model that got the best validation accuracy\n",
        "model_scratch.load_state_dict(torch.load('model_scratch.pt'))"
      ],
      "metadata": {
        "id": "smKrP1a2FSFT",
        "trusted": true,
        "execution": {
          "iopub.status.busy": "2025-03-09T06:32:56.535529Z",
          "iopub.execute_input": "2025-03-09T06:32:56.535924Z",
          "iopub.status.idle": "2025-03-09T08:19:13.266709Z",
          "shell.execute_reply.started": "2025-03-09T06:32:56.535893Z",
          "shell.execute_reply": "2025-03-09T08:19:13.265616Z"
        }
      },
      "outputs": [],
      "execution_count": null
    },
    {
      "cell_type": "markdown",
      "source": [
        "### (PERFORMENCE EVALUATION [5 points]) Test the Model\n",
        "\n",
        "Try out your model on the test dataset of dog images.  Use the code cell below to calculate and print the test loss and accuracy.  Ensure that your test accuracy is greater equal than 10%."
      ],
      "metadata": {
        "id": "NXasKInZFSFT"
      }
    },
    {
      "cell_type": "code",
      "source": [
        "def test(loaders, model, criterion, use_cuda):\n",
        "\n",
        "    # monitor test loss and accuracy\n",
        "    test_loss = 0.\n",
        "    correct = 0.\n",
        "    total = 0.\n",
        "\n",
        "    model.eval()\n",
        "    for batch_idx, (data, target) in enumerate(loaders['test']):\n",
        "        # move to GPU\n",
        "        if use_cuda:\n",
        "            data, target = data.cuda(), target.cuda()\n",
        "        # forward pass: compute predicted outputs by passing inputs to the model\n",
        "        output = model(data)\n",
        "        # calculate the loss\n",
        "        loss = criterion(output, target)\n",
        "        # update average test loss\n",
        "        test_loss = test_loss + ((1 / (batch_idx + 1)) * (loss.data - test_loss))\n",
        "        # convert output probabilities to predicted class\n",
        "        pred = output.data.max(1, keepdim=True)[1]\n",
        "        # compare predictions to true label\n",
        "        correct += np.sum(np.squeeze(pred.eq(target.data.view_as(pred))).cpu().numpy())\n",
        "        total += data.size(0)\n",
        "\n",
        "    print('Test Loss: {:.6f}\\n'.format(test_loss))\n",
        "\n",
        "    print('\\nTest Accuracy: %2d%% (%2d/%2d)' % (\n",
        "        100. * correct / total, correct, total))\n",
        "\n",
        "# call test function\n",
        "test(loaders_scratch, model_scratch, criterion_scratch, use_cuda)"
      ],
      "metadata": {
        "id": "oejGk2m8FSFT",
        "trusted": true,
        "execution": {
          "iopub.status.busy": "2025-03-09T08:19:13.268052Z",
          "iopub.execute_input": "2025-03-09T08:19:13.268428Z",
          "iopub.status.idle": "2025-03-09T08:19:20.246903Z",
          "shell.execute_reply.started": "2025-03-09T08:19:13.268401Z",
          "shell.execute_reply": "2025-03-09T08:19:20.245986Z"
        }
      },
      "outputs": [],
      "execution_count": null
    },
    {
      "cell_type": "markdown",
      "source": [
        "---\n",
        "<a id='step4'></a>\n",
        "## Step 4: Create a CNN to Classify Dog Breeds (using Transfer Learning)\n",
        "\n",
        "You will now use transfer learning to create a CNN that can identify dog breed from images.  Your CNN must attain at least 60% accuracy on the test set.\n",
        "\n",
        "### Specify Data Loaders for the Dog Dataset\n",
        "\n",
        "Use the code cell below to write three separate [data loaders](http://pytorch.org/docs/master/data.html#torch.utils.data.DataLoader) for the training, validation, and test datasets of dog images (located at `dogImages/train`, `dogImages/valid`, and `dogImages/test`, respectively).\n",
        "\n",
        "If you like, **you are welcome to use the same data loaders from the previous step**, when you created a CNN from scratch."
      ],
      "metadata": {
        "id": "1qjW7KLRFSFT"
      }
    },
    {
      "cell_type": "code",
      "source": [
        "## Specify data loaders (we use the same data loader created in step 3)\n",
        "loaders_transfer = loaders_scratch.copy()"
      ],
      "metadata": {
        "id": "dm5Da8aoFSFT",
        "trusted": true,
        "execution": {
          "iopub.status.busy": "2025-03-09T08:19:20.248332Z",
          "iopub.execute_input": "2025-03-09T08:19:20.248615Z",
          "iopub.status.idle": "2025-03-09T08:19:20.252301Z",
          "shell.execute_reply.started": "2025-03-09T08:19:20.248589Z",
          "shell.execute_reply": "2025-03-09T08:19:20.251558Z"
        }
      },
      "outputs": [],
      "execution_count": null
    },
    {
      "cell_type": "markdown",
      "source": [
        "### (IMPLEMENTATION [10 points]) Model Architecture\n",
        "\n",
        "Use transfer learning to create a CNN to classify dog breed.  Use the code cell below, and save your initialized model as the variable `model_transfer`."
      ],
      "metadata": {
        "id": "jRYUIf-yFSFT"
      }
    },
    {
      "cell_type": "code",
      "source": [
        "import torchvision.models as models\n",
        "import torch.nn as nn\n",
        "\n",
        "## TODO: Specify model architecture\n",
        "## name the model as `model_transfer`\n",
        "# Load the pre-trained network densenet161\n",
        "model_transfer = models.densenet161(pretrained=True)\n",
        "\n",
        "# Freeze training for all \"features\" layers\n",
        "for param in model_transfer.parameters():\n",
        "    param.requires_grad = False\n",
        "\n",
        "# replace the last fully connected layer with a Linnear layer 133 output\n",
        "# Replace the classifier layer with a new Linear layer (output = 133 classes)\n",
        "num_ftrs = model_transfer.classifier.in_features  # Get input features of last layer\n",
        "model_transfer.classifier = nn.Linear(num_ftrs, 133)  # Replace classifier\n",
        "\n",
        "if use_cuda:\n",
        "    model_transfer = model_transfer.cuda()"
      ],
      "metadata": {
        "id": "X-HAMcrvFSFT",
        "trusted": true,
        "execution": {
          "iopub.status.busy": "2025-03-09T08:19:20.253844Z",
          "iopub.execute_input": "2025-03-09T08:19:20.254128Z",
          "iopub.status.idle": "2025-03-09T08:19:20.868604Z",
          "shell.execute_reply.started": "2025-03-09T08:19:20.254105Z",
          "shell.execute_reply": "2025-03-09T08:19:20.867719Z"
        }
      },
      "outputs": [],
      "execution_count": null
    },
    {
      "cell_type": "markdown",
      "source": [
        "__Part C Question 3 [5 points]:__ Outline your final CNN architecture (using transfer learning) in Step 4.\n",
        "\n",
        "Hint: you could use `print(model_transfer)` to get the CNN architecture."
      ],
      "metadata": {
        "id": "3wHroUsBFSFU"
      }
    },
    {
      "cell_type": "code",
      "source": [
        "print(model_transfer)"
      ],
      "metadata": {
        "trusted": true,
        "execution": {
          "iopub.status.busy": "2025-03-09T08:19:20.869402Z",
          "iopub.execute_input": "2025-03-09T08:19:20.86969Z",
          "iopub.status.idle": "2025-03-09T08:19:20.877918Z",
          "shell.execute_reply.started": "2025-03-09T08:19:20.869651Z",
          "shell.execute_reply": "2025-03-09T08:19:20.877004Z"
        },
        "id": "6J6t3LCvVKJE"
      },
      "outputs": [],
      "execution_count": null
    },
    {
      "cell_type": "markdown",
      "source": [
        "__Answer:__\n"
      ],
      "metadata": {
        "id": "s_YMWIKAFSFU"
      }
    },
    {
      "cell_type": "markdown",
      "source": [
        "### (IMPLEMENTATION [5 points]) Specify Loss Function and Optimizer\n",
        "\n",
        "Use the next code cell to specify a [loss function](http://pytorch.org/docs/master/nn.html#loss-functions) and [optimizer](http://pytorch.org/docs/master/optim.html).  Save the chosen loss function as `criterion_transfer`, and the optimizer as `optimizer_transfer` below."
      ],
      "metadata": {
        "id": "ojhIvPAaFSFU"
      }
    },
    {
      "cell_type": "code",
      "source": [
        "criterion_transfer = torch.nn.CrossEntropyLoss()\n",
        "optimizer_transfer = optim.SGD(model_transfer.parameters(), lr=0.001, momentum=0.9, weight_decay=1e-4)\n",
        "scheduler = torch.optim.lr_scheduler.StepLR(optimizer_transfer, step_size=5, gamma=0.5)"
      ],
      "metadata": {
        "id": "P2wDpUTkFSFU",
        "trusted": true,
        "execution": {
          "iopub.status.busy": "2025-03-09T08:55:55.520129Z",
          "iopub.execute_input": "2025-03-09T08:55:55.520504Z",
          "iopub.status.idle": "2025-03-09T08:55:55.527605Z",
          "shell.execute_reply.started": "2025-03-09T08:55:55.520478Z",
          "shell.execute_reply": "2025-03-09T08:55:55.526543Z"
        }
      },
      "outputs": [],
      "execution_count": null
    },
    {
      "cell_type": "markdown",
      "source": [
        "### (IMPLEMENTATION [5 points]) Train and Validate the Model\n",
        "\n",
        "Train and validate your model in the code cell below.  [Save the final model parameters](http://pytorch.org/docs/master/notes/serialization.html) at filepath `'model_transfer.pt'`."
      ],
      "metadata": {
        "id": "rsLhc4z_FSFU"
      }
    },
    {
      "cell_type": "code",
      "source": [
        "# train the model\n",
        "model_transfer = train(40, loaders_transfer, model_transfer, optimizer_transfer, criterion_transfer, use_cuda, 'model_transfer.pt')\n",
        "\n",
        "# load the model that got the best validation accuracy (uncomment the line below)\n",
        "model_transfer.load_state_dict(torch.load('model_transfer.pt'))"
      ],
      "metadata": {
        "id": "EPkN4CFgFSFU",
        "trusted": true,
        "execution": {
          "iopub.status.busy": "2025-03-09T08:55:55.529124Z",
          "iopub.execute_input": "2025-03-09T08:55:55.529412Z",
          "iopub.status.idle": "2025-03-09T09:50:21.384053Z",
          "shell.execute_reply.started": "2025-03-09T08:55:55.529389Z",
          "shell.execute_reply": "2025-03-09T09:50:21.383063Z"
        }
      },
      "outputs": [],
      "execution_count": null
    },
    {
      "cell_type": "markdown",
      "source": [
        "### (PERFORMENCE EVALUATION [5 points + (possibly) 10 bonus point]) Test the Model\n",
        "\n",
        "Try out your model on the test dataset of dog images. Use the code cell below to calculate and print the test loss and accuracy.  Ensure that your test accuracy is greater than 60%.\n",
        "\n",
        "You also have the possibility to get a total of 10 additional bonus points if you obtain high test accuracy after your parameter's turning. The rubric is as follows.\n",
        "\n",
        "If your test accuracy under transfer learning is | You will get\n",
        "- | -\n",
        "above 90% | 10 bonus points\n",
        "above 80% but below 90% |5 bonus points\n",
        "below 80% | 0 bonus points"
      ],
      "metadata": {
        "id": "1NT5PS2FFSFU"
      }
    },
    {
      "cell_type": "code",
      "source": [
        "test(loaders_transfer, model_transfer, criterion_transfer, use_cuda)"
      ],
      "metadata": {
        "id": "SyeDHwX2FSFU",
        "trusted": true,
        "execution": {
          "iopub.status.busy": "2025-03-09T09:50:21.386104Z",
          "iopub.execute_input": "2025-03-09T09:50:21.386373Z",
          "iopub.status.idle": "2025-03-09T09:50:30.74842Z",
          "shell.execute_reply.started": "2025-03-09T09:50:21.386348Z",
          "shell.execute_reply": "2025-03-09T09:50:30.747532Z"
        }
      },
      "outputs": [],
      "execution_count": null
    },
    {
      "cell_type": "markdown",
      "source": [
        "### Predict Dog Breed with the Model\n",
        "\n",
        "Write a function that takes an image path as input and returns the dog breed (`Affenpinscher`, `Afghan hound`, etc) that is predicted by your model.  "
      ],
      "metadata": {
        "id": "Zyv75C8pFSFU"
      }
    },
    {
      "cell_type": "code",
      "source": [
        "### The function that takes a path to an image as input\n",
        "### and returns the dog breed that is predicted by the model.\n",
        "\n",
        "# list of class names by index, i.e. a name can be accessed like class_names[0]\n",
        "class_names = [item[4:].replace(\"_\", \" \") for item in train_data.classes]\n",
        "\n",
        "def predict_breed_transfer(img_path):\n",
        "    # load the image and return the predicted breed\n",
        "\n",
        "    # All pre-trained models expect input images normalized in the same way,\n",
        "    # i.e. mini-batches of 3-channel RGB images of shape (3 x H x W),\n",
        "    # where H and W are expected to be at least 224.\n",
        "    # The images have to be loaded in to a range of [0, 1]\n",
        "    # and then normalized using mean = [0.485, 0.456, 0.406] and std = [0.229, 0.224, 0.225]\n",
        "\n",
        "    normalize = transforms.Normalize(mean=[0.485, 0.456, 0.406], std=[0.229, 0.224, 0.225])\n",
        "    transform = transforms.Compose([transforms.Resize(256),\n",
        "                                    transforms.CenterCrop(224),\n",
        "                                    transforms.ToTensor(),\n",
        "                                    normalize])\n",
        "\n",
        "    # Open image and apply transformation\n",
        "    image = Image.open(img_path)\n",
        "    image = transform(image)\n",
        "    image.unsqueeze_(0)\n",
        "\n",
        "    # move image to GPU if CUDA is available\n",
        "    if use_cuda:\n",
        "        image = image.cuda()\n",
        "\n",
        "    # Predict using model_transfer\n",
        "    image_var = torch.autograd.Variable(image)\n",
        "    prediction = model_transfer(image_var)\n",
        "    value, index = torch.max(prediction, 1)\n",
        "\n",
        "    return class_names[index[0].item()]"
      ],
      "metadata": {
        "id": "oDgPgyJhFSFV",
        "trusted": true,
        "execution": {
          "iopub.status.busy": "2025-03-09T09:50:30.749255Z",
          "iopub.execute_input": "2025-03-09T09:50:30.749512Z",
          "iopub.status.idle": "2025-03-09T09:50:30.756076Z",
          "shell.execute_reply.started": "2025-03-09T09:50:30.749491Z",
          "shell.execute_reply": "2025-03-09T09:50:30.755078Z"
        }
      },
      "outputs": [],
      "execution_count": null
    },
    {
      "cell_type": "markdown",
      "source": [
        "---\n",
        "<a id='step5'></a>\n",
        "## Step 5: Single Image Prediction\n",
        "\n",
        "Write an algorithm that accepts a file path to an image and first determines whether the image contains a human, dog, or neither.  Then,\n",
        "- if a __dog__ is detected in the image, return the predicted breed.\n",
        "- if a __human__ is detected in the image, return the resembling dog breed.\n",
        "- if __neither__ is detected in the image, provide output that indicates an error.\n",
        "\n",
        "You are welcome to write your own functions for detecting humans and dogs in images, but feel free to use the `face_detector` and `human_detector` functions developed above.  You are __required__ to use your CNN from Step 4 to predict dog breed.  \n",
        "\n",
        "Some sample output for our algorithm is provided below, but feel free to design your own user experience!\n",
        "\n",
        "![Sample Human Output](https://www.dropbox.com/s/53a4v25xecb4iz1/sample_human_output.png?dl=1)\n",
        "\n",
        "\n",
        "### A Fuction Called `run_app` Being Ready for Single Image Prediction"
      ],
      "metadata": {
        "id": "-ClP1D3FFSFV"
      }
    },
    {
      "cell_type": "code",
      "source": [
        "### Write your algorithm.\n",
        "### Feel free to use as many code cells as needed.\n",
        "from PIL import Image\n",
        "import requests\n",
        "from io import BytesIO\n",
        "\n",
        "def run_app(img_path):\n",
        "    ## handle cases for a human face, dog, and neither\n",
        "    img = Image.open(img_path)\n",
        "\n",
        "    if dog_detector(img_path):\n",
        "        plt.imshow(img)\n",
        "        plt.show()\n",
        "        print('Hello, dog!')\n",
        "        print('Your predicted breed is ...', predict_breed_transfer(img_path))\n",
        "    elif face_detector(img_path):\n",
        "        plt.imshow(img)\n",
        "        plt.show()\n",
        "        print('Hello, human!')\n",
        "        print('Your look like a ...', predict_breed_transfer(img_path))\n",
        "    else:\n",
        "        plt.imshow(img)\n",
        "        plt.show()\n",
        "        print('Classification error, no dog or human found!')"
      ],
      "metadata": {
        "id": "yKvumI7vFSFV",
        "trusted": true,
        "execution": {
          "iopub.status.busy": "2025-03-09T09:50:30.756962Z",
          "iopub.execute_input": "2025-03-09T09:50:30.757239Z",
          "iopub.status.idle": "2025-03-09T09:50:30.782502Z",
          "shell.execute_reply.started": "2025-03-09T09:50:30.757203Z",
          "shell.execute_reply": "2025-03-09T09:50:30.781363Z"
        }
      },
      "outputs": [],
      "execution_count": null
    },
    {
      "cell_type": "markdown",
      "source": [
        "---\n",
        "<a id='step6'></a>\n",
        "## Step 6: Test Your Model\n",
        "\n",
        "In this section, you will take your new model for a spin!  What kind of dog does the algorithm think that _you_ look like?  If you have a dog, does it predict your dog's breed accurately?  If you have a cat, does it mistakenly think that your cat is a dog?\n",
        "\n",
        "### (IMPLEMENTATION [5 points]) Test Your Model on Sample Images!\n",
        "\n",
        "Test your model at least six images on your computer. Feel free to use any images you like. Use at least two human and two dog images.  "
      ],
      "metadata": {
        "id": "Ne8MySfsFSFV"
      }
    },
    {
      "cell_type": "markdown",
      "source": [
        "__Part C Question 4 [5 points]:__ Is the output better than you expected :) ?  Or worse :( ?  Provide at least TWO possible points of improvement for your algorithm."
      ],
      "metadata": {
        "id": "hFLD2kPpvpxy"
      }
    },
    {
      "cell_type": "markdown",
      "source": [
        "__Answer:__ (TWO possible points for improvement)\n",
        "\n",
        "1.\n",
        "2."
      ],
      "metadata": {
        "id": "4y6CnAdVFSFV"
      }
    },
    {
      "cell_type": "code",
      "source": [
        "## TODO: Execute your model from Step 4 on\n",
        "## at least 6 images on your computer by calling\n",
        "## the `run_app` function you implement in Step 5.\n",
        "## Feel free to use as many code cells as needed.\n",
        "\n",
        "## suggested code, below\n",
        "for file in np.hstack((human_files[:3], dog_files[:3])):\n",
        "    run_app(file)\n",
        "\n",
        "## or you could creat a folder called test_images\n",
        "## then load six your favorite images to this folder\n",
        "## then run code below\n",
        "for filename in os.listdir('./test_images/'):\n",
        "    if filename.endswith(\".jpg\"):\n",
        "        run_app('./test_images/' + filename)"
      ],
      "metadata": {
        "id": "uris1l0CFSFV",
        "trusted": true,
        "execution": {
          "iopub.status.busy": "2025-03-09T09:50:30.783482Z",
          "iopub.execute_input": "2025-03-09T09:50:30.783817Z",
          "iopub.status.idle": "2025-03-09T09:50:32.484923Z",
          "shell.execute_reply.started": "2025-03-09T09:50:30.783791Z",
          "shell.execute_reply": "2025-03-09T09:50:32.483774Z"
        }
      },
      "outputs": [],
      "execution_count": null
    },
    {
      "cell_type": "code",
      "source": [],
      "metadata": {
        "trusted": true,
        "id": "t-DVyJtOVKJG"
      },
      "outputs": [],
      "execution_count": null
    },
    {
      "cell_type": "code",
      "source": [],
      "metadata": {
        "trusted": true,
        "id": "yMuxLtBOVKJG"
      },
      "outputs": [],
      "execution_count": null
    },
    {
      "cell_type": "code",
      "source": [],
      "metadata": {
        "trusted": true,
        "id": "VgxzLrO0VKJG"
      },
      "outputs": [],
      "execution_count": null
    }
  ]
}